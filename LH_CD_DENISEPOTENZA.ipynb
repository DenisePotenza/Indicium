{
 "cells": [
  {
   "cell_type": "markdown",
   "metadata": {},
   "source": [
    "<li> id – Atua como uma chave exclusiva para cada anúncio nos dados do aplicativo</li>\n",
    "<li>nome - Representa o nome do anúncio</li>\n",
    "<li>host_id - Representa o id do usuário que hospedou o anúncio</li>\n",
    "<li>host_name – Contém o nome do usuário que hospedou o anúncio</li>\n",
    "<li>bairro_group - Contém o nome do bairro onde o anúncio está localizado</li>\n",
    "<li>bairro - Contém o nome da área onde o anúncio está localizado</li>\n",
    "<li>latitude - Contém a latitude do local</li>\n",
    "<li>longitude - Contém a longitude do local</li>\n",
    "<li>room_type – Contém o tipo de espaço de cada anúncio</li>\n",
    "<li>price - Contém o preço por noite em dólares listado pelo anfitrião</li>\n",
    "<li>minimo_noites - Contém o número mínimo de noites que o usuário deve reservar</li>\n",
    "<li>numero_de_reviews - Contém o número de comentários dados a cada listagem</li>\n",
    "<li>ultima_review - Contém a data da última revisão dada à listagem</li>\n",
    "<li>reviews_por_mes - Contém o número de avaliações fornecidas por mês</li>\n",
    "<li>calculado_host_listings_count - Contém a quantidade de listagem por host</li>\n",
    "<li>disponibilidade_365 - Contém o número de dias em que o anúncio está disponível para reserva</li>\n"
   ]
  },
  {
   "cell_type": "code",
   "execution_count": 221,
   "metadata": {},
   "outputs": [],
   "source": [
    "#Import libraries\n",
    "import numpy as np\n",
    "import pandas as pd\n",
    "import json\n",
    "\n",
    "#Visual libraries\n",
    "import matplotlib.pyplot as plt \n",
    "import seaborn as sns"
   ]
  },
  {
   "cell_type": "code",
   "execution_count": 2,
   "metadata": {},
   "outputs": [
    {
     "data": {
      "text/html": [
       "<div>\n",
       "<style scoped>\n",
       "    .dataframe tbody tr th:only-of-type {\n",
       "        vertical-align: middle;\n",
       "    }\n",
       "\n",
       "    .dataframe tbody tr th {\n",
       "        vertical-align: top;\n",
       "    }\n",
       "\n",
       "    .dataframe thead th {\n",
       "        text-align: right;\n",
       "    }\n",
       "</style>\n",
       "<table border=\"1\" class=\"dataframe\">\n",
       "  <thead>\n",
       "    <tr style=\"text-align: right;\">\n",
       "      <th></th>\n",
       "      <th>id</th>\n",
       "      <th>nome</th>\n",
       "      <th>host_id</th>\n",
       "      <th>host_name</th>\n",
       "      <th>bairro_group</th>\n",
       "      <th>bairro</th>\n",
       "      <th>latitude</th>\n",
       "      <th>longitude</th>\n",
       "      <th>room_type</th>\n",
       "      <th>price</th>\n",
       "      <th>minimo_noites</th>\n",
       "      <th>numero_de_reviews</th>\n",
       "      <th>ultima_review</th>\n",
       "      <th>reviews_por_mes</th>\n",
       "      <th>calculado_host_listings_count</th>\n",
       "      <th>disponibilidade_365</th>\n",
       "    </tr>\n",
       "  </thead>\n",
       "  <tbody>\n",
       "    <tr>\n",
       "      <th>0</th>\n",
       "      <td>2595</td>\n",
       "      <td>Skylit Midtown Castle</td>\n",
       "      <td>2845</td>\n",
       "      <td>Jennifer</td>\n",
       "      <td>Manhattan</td>\n",
       "      <td>Midtown</td>\n",
       "      <td>40.75362</td>\n",
       "      <td>-73.98377</td>\n",
       "      <td>Entire home/apt</td>\n",
       "      <td>225</td>\n",
       "      <td>1</td>\n",
       "      <td>45</td>\n",
       "      <td>2019-05-21</td>\n",
       "      <td>0.38</td>\n",
       "      <td>2</td>\n",
       "      <td>355</td>\n",
       "    </tr>\n",
       "    <tr>\n",
       "      <th>1</th>\n",
       "      <td>3647</td>\n",
       "      <td>THE VILLAGE OF HARLEM....NEW YORK !</td>\n",
       "      <td>4632</td>\n",
       "      <td>Elisabeth</td>\n",
       "      <td>Manhattan</td>\n",
       "      <td>Harlem</td>\n",
       "      <td>40.80902</td>\n",
       "      <td>-73.94190</td>\n",
       "      <td>Private room</td>\n",
       "      <td>150</td>\n",
       "      <td>3</td>\n",
       "      <td>0</td>\n",
       "      <td>NaT</td>\n",
       "      <td>NaN</td>\n",
       "      <td>1</td>\n",
       "      <td>365</td>\n",
       "    </tr>\n",
       "    <tr>\n",
       "      <th>2</th>\n",
       "      <td>3831</td>\n",
       "      <td>Cozy Entire Floor of Brownstone</td>\n",
       "      <td>4869</td>\n",
       "      <td>LisaRoxanne</td>\n",
       "      <td>Brooklyn</td>\n",
       "      <td>Clinton Hill</td>\n",
       "      <td>40.68514</td>\n",
       "      <td>-73.95976</td>\n",
       "      <td>Entire home/apt</td>\n",
       "      <td>89</td>\n",
       "      <td>1</td>\n",
       "      <td>270</td>\n",
       "      <td>2019-07-05</td>\n",
       "      <td>4.64</td>\n",
       "      <td>1</td>\n",
       "      <td>194</td>\n",
       "    </tr>\n",
       "    <tr>\n",
       "      <th>3</th>\n",
       "      <td>5022</td>\n",
       "      <td>Entire Apt: Spacious Studio/Loft by central park</td>\n",
       "      <td>7192</td>\n",
       "      <td>Laura</td>\n",
       "      <td>Manhattan</td>\n",
       "      <td>East Harlem</td>\n",
       "      <td>40.79851</td>\n",
       "      <td>-73.94399</td>\n",
       "      <td>Entire home/apt</td>\n",
       "      <td>80</td>\n",
       "      <td>10</td>\n",
       "      <td>9</td>\n",
       "      <td>2018-11-19</td>\n",
       "      <td>0.10</td>\n",
       "      <td>1</td>\n",
       "      <td>0</td>\n",
       "    </tr>\n",
       "    <tr>\n",
       "      <th>4</th>\n",
       "      <td>5099</td>\n",
       "      <td>Large Cozy 1 BR Apartment In Midtown East</td>\n",
       "      <td>7322</td>\n",
       "      <td>Chris</td>\n",
       "      <td>Manhattan</td>\n",
       "      <td>Murray Hill</td>\n",
       "      <td>40.74767</td>\n",
       "      <td>-73.97500</td>\n",
       "      <td>Entire home/apt</td>\n",
       "      <td>200</td>\n",
       "      <td>3</td>\n",
       "      <td>74</td>\n",
       "      <td>2019-06-22</td>\n",
       "      <td>0.59</td>\n",
       "      <td>1</td>\n",
       "      <td>129</td>\n",
       "    </tr>\n",
       "  </tbody>\n",
       "</table>\n",
       "</div>"
      ],
      "text/plain": [
       "     id                                              nome  host_id  \\\n",
       "0  2595                             Skylit Midtown Castle     2845   \n",
       "1  3647               THE VILLAGE OF HARLEM....NEW YORK !     4632   \n",
       "2  3831                   Cozy Entire Floor of Brownstone     4869   \n",
       "3  5022  Entire Apt: Spacious Studio/Loft by central park     7192   \n",
       "4  5099         Large Cozy 1 BR Apartment In Midtown East     7322   \n",
       "\n",
       "     host_name bairro_group        bairro  latitude  longitude  \\\n",
       "0     Jennifer    Manhattan       Midtown  40.75362  -73.98377   \n",
       "1    Elisabeth    Manhattan        Harlem  40.80902  -73.94190   \n",
       "2  LisaRoxanne     Brooklyn  Clinton Hill  40.68514  -73.95976   \n",
       "3        Laura    Manhattan   East Harlem  40.79851  -73.94399   \n",
       "4        Chris    Manhattan   Murray Hill  40.74767  -73.97500   \n",
       "\n",
       "         room_type  price  minimo_noites  numero_de_reviews ultima_review  \\\n",
       "0  Entire home/apt    225              1                 45    2019-05-21   \n",
       "1     Private room    150              3                  0           NaT   \n",
       "2  Entire home/apt     89              1                270    2019-07-05   \n",
       "3  Entire home/apt     80             10                  9    2018-11-19   \n",
       "4  Entire home/apt    200              3                 74    2019-06-22   \n",
       "\n",
       "   reviews_por_mes  calculado_host_listings_count  disponibilidade_365  \n",
       "0             0.38                              2                  355  \n",
       "1              NaN                              1                  365  \n",
       "2             4.64                              1                  194  \n",
       "3             0.10                              1                    0  \n",
       "4             0.59                              1                  129  "
      ]
     },
     "execution_count": 2,
     "metadata": {},
     "output_type": "execute_result"
    }
   ],
   "source": [
    "#Import csv file\n",
    "path = 'https://raw.githubusercontent.com/DenisePotenza/Indicium/main/teste_indicium_precificacao.csv'\n",
    "ny_rent = pd.read_csv(path, parse_dates=['ultima_review'])\n",
    "\n",
    "#Show first five rows\n",
    "ny_rent.head()"
   ]
  },
  {
   "cell_type": "code",
   "execution_count": 3,
   "metadata": {},
   "outputs": [
    {
     "name": "stdout",
     "output_type": "stream",
     "text": [
      "Temos 48894 linhas e 16 colunas no conjunto de dados.\n"
     ]
    }
   ],
   "source": [
    "#Dataset shape\n",
    "print(f'Temos {ny_rent.shape[0]} linhas e {ny_rent.shape[1]} colunas no conjunto de dados.')"
   ]
  },
  {
   "cell_type": "code",
   "execution_count": 4,
   "metadata": {},
   "outputs": [
    {
     "name": "stdout",
     "output_type": "stream",
     "text": [
      "<class 'pandas.core.frame.DataFrame'>\n",
      "RangeIndex: 48894 entries, 0 to 48893\n",
      "Data columns (total 16 columns):\n",
      " #   Column                         Non-Null Count  Dtype         \n",
      "---  ------                         --------------  -----         \n",
      " 0   id                             48894 non-null  int64         \n",
      " 1   nome                           48878 non-null  object        \n",
      " 2   host_id                        48894 non-null  int64         \n",
      " 3   host_name                      48873 non-null  object        \n",
      " 4   bairro_group                   48894 non-null  object        \n",
      " 5   bairro                         48894 non-null  object        \n",
      " 6   latitude                       48894 non-null  float64       \n",
      " 7   longitude                      48894 non-null  float64       \n",
      " 8   room_type                      48894 non-null  object        \n",
      " 9   price                          48894 non-null  int64         \n",
      " 10  minimo_noites                  48894 non-null  int64         \n",
      " 11  numero_de_reviews              48894 non-null  int64         \n",
      " 12  ultima_review                  38842 non-null  datetime64[ns]\n",
      " 13  reviews_por_mes                38842 non-null  float64       \n",
      " 14  calculado_host_listings_count  48894 non-null  int64         \n",
      " 15  disponibilidade_365            48894 non-null  int64         \n",
      "dtypes: datetime64[ns](1), float64(3), int64(7), object(5)\n",
      "memory usage: 6.0+ MB\n"
     ]
    }
   ],
   "source": [
    "#Dataset info\n",
    "ny_rent.info()"
   ]
  },
  {
   "cell_type": "code",
   "execution_count": 5,
   "metadata": {},
   "outputs": [
    {
     "data": {
      "text/plain": [
       "ultima_review                    20.558760\n",
       "reviews_por_mes                  20.558760\n",
       "host_name                         0.042950\n",
       "nome                              0.032724\n",
       "id                                0.000000\n",
       "host_id                           0.000000\n",
       "bairro_group                      0.000000\n",
       "bairro                            0.000000\n",
       "latitude                          0.000000\n",
       "longitude                         0.000000\n",
       "room_type                         0.000000\n",
       "price                             0.000000\n",
       "minimo_noites                     0.000000\n",
       "numero_de_reviews                 0.000000\n",
       "calculado_host_listings_count     0.000000\n",
       "disponibilidade_365               0.000000\n",
       "dtype: float64"
      ]
     },
     "execution_count": 5,
     "metadata": {},
     "output_type": "execute_result"
    }
   ],
   "source": [
    "#Missing data per column\n",
    "((ny_rent.isnull().sum() / len(ny_rent)) * 100).sort_values(ascending=False)"
   ]
  },
  {
   "cell_type": "markdown",
   "metadata": {},
   "source": [
    "Temos quatro colunas com dados faltando, sendo ultima_review e reviews_por_mes com mais de 20% de entradas vazias."
   ]
  },
  {
   "cell_type": "code",
   "execution_count": 6,
   "metadata": {},
   "outputs": [
    {
     "name": "stdout",
     "output_type": "stream",
     "text": [
      "Temos 10 colunas numéricas e 6 colunas categoricas.\n"
     ]
    }
   ],
   "source": [
    "#Numeric and categorical culumns\n",
    "numeric = [\"int16\", \"int32\", \"int64\", \"float16\", \"float32\", \"float64\"]\n",
    "\n",
    "#All numeric columns\n",
    "numericas = ny_rent.select_dtypes(include=numeric)\n",
    "\n",
    "#All categorical columns\n",
    "categoricas = ny_rent.select_dtypes(exclude=numeric)\n",
    "\n",
    "print(f\"Temos {numericas.shape[1]} colunas numéricas e {categoricas.shape[1]} colunas categoricas.\")\n"
   ]
  },
  {
   "cell_type": "code",
   "execution_count": 7,
   "metadata": {},
   "outputs": [
    {
     "data": {
      "text/html": [
       "<div>\n",
       "<style scoped>\n",
       "    .dataframe tbody tr th:only-of-type {\n",
       "        vertical-align: middle;\n",
       "    }\n",
       "\n",
       "    .dataframe tbody tr th {\n",
       "        vertical-align: top;\n",
       "    }\n",
       "\n",
       "    .dataframe thead th {\n",
       "        text-align: right;\n",
       "    }\n",
       "</style>\n",
       "<table border=\"1\" class=\"dataframe\">\n",
       "  <thead>\n",
       "    <tr style=\"text-align: right;\">\n",
       "      <th></th>\n",
       "      <th>count</th>\n",
       "      <th>mean</th>\n",
       "      <th>min</th>\n",
       "      <th>25%</th>\n",
       "      <th>50%</th>\n",
       "      <th>75%</th>\n",
       "      <th>max</th>\n",
       "      <th>std</th>\n",
       "    </tr>\n",
       "  </thead>\n",
       "  <tbody>\n",
       "    <tr>\n",
       "      <th>id</th>\n",
       "      <td>48894.0</td>\n",
       "      <td>19017532.130609</td>\n",
       "      <td>2595.0</td>\n",
       "      <td>9472370.75</td>\n",
       "      <td>19677431.5</td>\n",
       "      <td>29152249.25</td>\n",
       "      <td>36487245.0</td>\n",
       "      <td>10982884.048876</td>\n",
       "    </tr>\n",
       "    <tr>\n",
       "      <th>host_id</th>\n",
       "      <td>48894.0</td>\n",
       "      <td>67621393.581605</td>\n",
       "      <td>2438.0</td>\n",
       "      <td>7822736.75</td>\n",
       "      <td>30795529.0</td>\n",
       "      <td>107434423.0</td>\n",
       "      <td>274321313.0</td>\n",
       "      <td>78611176.150486</td>\n",
       "    </tr>\n",
       "    <tr>\n",
       "      <th>latitude</th>\n",
       "      <td>48894.0</td>\n",
       "      <td>40.728951</td>\n",
       "      <td>40.49979</td>\n",
       "      <td>40.6901</td>\n",
       "      <td>40.723075</td>\n",
       "      <td>40.763117</td>\n",
       "      <td>40.91306</td>\n",
       "      <td>0.054529</td>\n",
       "    </tr>\n",
       "    <tr>\n",
       "      <th>longitude</th>\n",
       "      <td>48894.0</td>\n",
       "      <td>-73.952169</td>\n",
       "      <td>-74.24442</td>\n",
       "      <td>-73.98307</td>\n",
       "      <td>-73.95568</td>\n",
       "      <td>-73.936273</td>\n",
       "      <td>-73.71299</td>\n",
       "      <td>0.046157</td>\n",
       "    </tr>\n",
       "    <tr>\n",
       "      <th>price</th>\n",
       "      <td>48894.0</td>\n",
       "      <td>152.720763</td>\n",
       "      <td>0.0</td>\n",
       "      <td>69.0</td>\n",
       "      <td>106.0</td>\n",
       "      <td>175.0</td>\n",
       "      <td>10000.0</td>\n",
       "      <td>240.156625</td>\n",
       "    </tr>\n",
       "    <tr>\n",
       "      <th>minimo_noites</th>\n",
       "      <td>48894.0</td>\n",
       "      <td>7.030085</td>\n",
       "      <td>1.0</td>\n",
       "      <td>1.0</td>\n",
       "      <td>3.0</td>\n",
       "      <td>5.0</td>\n",
       "      <td>1250.0</td>\n",
       "      <td>20.510741</td>\n",
       "    </tr>\n",
       "    <tr>\n",
       "      <th>numero_de_reviews</th>\n",
       "      <td>48894.0</td>\n",
       "      <td>23.274758</td>\n",
       "      <td>0.0</td>\n",
       "      <td>1.0</td>\n",
       "      <td>5.0</td>\n",
       "      <td>24.0</td>\n",
       "      <td>629.0</td>\n",
       "      <td>44.550991</td>\n",
       "    </tr>\n",
       "    <tr>\n",
       "      <th>ultima_review</th>\n",
       "      <td>38842</td>\n",
       "      <td>2018-10-04 01:46:50.710055936</td>\n",
       "      <td>2011-03-28 00:00:00</td>\n",
       "      <td>2018-07-08 00:00:00</td>\n",
       "      <td>2019-05-19 00:00:00</td>\n",
       "      <td>2019-06-23 00:00:00</td>\n",
       "      <td>2019-07-08 00:00:00</td>\n",
       "      <td>NaN</td>\n",
       "    </tr>\n",
       "    <tr>\n",
       "      <th>reviews_por_mes</th>\n",
       "      <td>38842.0</td>\n",
       "      <td>1.373251</td>\n",
       "      <td>0.01</td>\n",
       "      <td>0.19</td>\n",
       "      <td>0.72</td>\n",
       "      <td>2.02</td>\n",
       "      <td>58.5</td>\n",
       "      <td>1.680453</td>\n",
       "    </tr>\n",
       "    <tr>\n",
       "      <th>calculado_host_listings_count</th>\n",
       "      <td>48894.0</td>\n",
       "      <td>7.144005</td>\n",
       "      <td>1.0</td>\n",
       "      <td>1.0</td>\n",
       "      <td>1.0</td>\n",
       "      <td>2.0</td>\n",
       "      <td>327.0</td>\n",
       "      <td>32.952855</td>\n",
       "    </tr>\n",
       "    <tr>\n",
       "      <th>disponibilidade_365</th>\n",
       "      <td>48894.0</td>\n",
       "      <td>112.776169</td>\n",
       "      <td>0.0</td>\n",
       "      <td>0.0</td>\n",
       "      <td>45.0</td>\n",
       "      <td>227.0</td>\n",
       "      <td>365.0</td>\n",
       "      <td>131.618692</td>\n",
       "    </tr>\n",
       "  </tbody>\n",
       "</table>\n",
       "</div>"
      ],
      "text/plain": [
       "                                 count                           mean  \\\n",
       "id                             48894.0                19017532.130609   \n",
       "host_id                        48894.0                67621393.581605   \n",
       "latitude                       48894.0                      40.728951   \n",
       "longitude                      48894.0                     -73.952169   \n",
       "price                          48894.0                     152.720763   \n",
       "minimo_noites                  48894.0                       7.030085   \n",
       "numero_de_reviews              48894.0                      23.274758   \n",
       "ultima_review                    38842  2018-10-04 01:46:50.710055936   \n",
       "reviews_por_mes                38842.0                       1.373251   \n",
       "calculado_host_listings_count  48894.0                       7.144005   \n",
       "disponibilidade_365            48894.0                     112.776169   \n",
       "\n",
       "                                               min                  25%  \\\n",
       "id                                          2595.0           9472370.75   \n",
       "host_id                                     2438.0           7822736.75   \n",
       "latitude                                  40.49979              40.6901   \n",
       "longitude                                -74.24442            -73.98307   \n",
       "price                                          0.0                 69.0   \n",
       "minimo_noites                                  1.0                  1.0   \n",
       "numero_de_reviews                              0.0                  1.0   \n",
       "ultima_review                  2011-03-28 00:00:00  2018-07-08 00:00:00   \n",
       "reviews_por_mes                               0.01                 0.19   \n",
       "calculado_host_listings_count                  1.0                  1.0   \n",
       "disponibilidade_365                            0.0                  0.0   \n",
       "\n",
       "                                               50%                  75%  \\\n",
       "id                                      19677431.5          29152249.25   \n",
       "host_id                                 30795529.0          107434423.0   \n",
       "latitude                                 40.723075            40.763117   \n",
       "longitude                                -73.95568           -73.936273   \n",
       "price                                        106.0                175.0   \n",
       "minimo_noites                                  3.0                  5.0   \n",
       "numero_de_reviews                              5.0                 24.0   \n",
       "ultima_review                  2019-05-19 00:00:00  2019-06-23 00:00:00   \n",
       "reviews_por_mes                               0.72                 2.02   \n",
       "calculado_host_listings_count                  1.0                  2.0   \n",
       "disponibilidade_365                           45.0                227.0   \n",
       "\n",
       "                                               max              std  \n",
       "id                                      36487245.0  10982884.048876  \n",
       "host_id                                274321313.0  78611176.150486  \n",
       "latitude                                  40.91306         0.054529  \n",
       "longitude                                -73.71299         0.046157  \n",
       "price                                      10000.0       240.156625  \n",
       "minimo_noites                               1250.0        20.510741  \n",
       "numero_de_reviews                            629.0        44.550991  \n",
       "ultima_review                  2019-07-08 00:00:00              NaN  \n",
       "reviews_por_mes                               58.5         1.680453  \n",
       "calculado_host_listings_count                327.0        32.952855  \n",
       "disponibilidade_365                          365.0       131.618692  "
      ]
     },
     "execution_count": 7,
     "metadata": {},
     "output_type": "execute_result"
    }
   ],
   "source": [
    "#Describe\n",
    "ny_rent.describe().T"
   ]
  },
  {
   "cell_type": "code",
   "execution_count": 8,
   "metadata": {},
   "outputs": [
    {
     "data": {
      "text/html": [
       "<div>\n",
       "<style scoped>\n",
       "    .dataframe tbody tr th:only-of-type {\n",
       "        vertical-align: middle;\n",
       "    }\n",
       "\n",
       "    .dataframe tbody tr th {\n",
       "        vertical-align: top;\n",
       "    }\n",
       "\n",
       "    .dataframe thead th {\n",
       "        text-align: right;\n",
       "    }\n",
       "</style>\n",
       "<table border=\"1\" class=\"dataframe\">\n",
       "  <thead>\n",
       "    <tr style=\"text-align: right;\">\n",
       "      <th></th>\n",
       "      <th>nome</th>\n",
       "      <th>host_name</th>\n",
       "      <th>bairro_group</th>\n",
       "      <th>bairro</th>\n",
       "      <th>room_type</th>\n",
       "    </tr>\n",
       "  </thead>\n",
       "  <tbody>\n",
       "    <tr>\n",
       "      <th>count</th>\n",
       "      <td>48878</td>\n",
       "      <td>48873</td>\n",
       "      <td>48894</td>\n",
       "      <td>48894</td>\n",
       "      <td>48894</td>\n",
       "    </tr>\n",
       "    <tr>\n",
       "      <th>unique</th>\n",
       "      <td>47904</td>\n",
       "      <td>11452</td>\n",
       "      <td>5</td>\n",
       "      <td>221</td>\n",
       "      <td>3</td>\n",
       "    </tr>\n",
       "    <tr>\n",
       "      <th>top</th>\n",
       "      <td>Hillside Hotel</td>\n",
       "      <td>Michael</td>\n",
       "      <td>Manhattan</td>\n",
       "      <td>Williamsburg</td>\n",
       "      <td>Entire home/apt</td>\n",
       "    </tr>\n",
       "    <tr>\n",
       "      <th>freq</th>\n",
       "      <td>18</td>\n",
       "      <td>417</td>\n",
       "      <td>21661</td>\n",
       "      <td>3920</td>\n",
       "      <td>25409</td>\n",
       "    </tr>\n",
       "  </tbody>\n",
       "</table>\n",
       "</div>"
      ],
      "text/plain": [
       "                  nome host_name bairro_group        bairro        room_type\n",
       "count            48878     48873        48894         48894            48894\n",
       "unique           47904     11452            5           221                3\n",
       "top     Hillside Hotel   Michael    Manhattan  Williamsburg  Entire home/apt\n",
       "freq                18       417        21661          3920            25409"
      ]
     },
     "execution_count": 8,
     "metadata": {},
     "output_type": "execute_result"
    }
   ],
   "source": [
    "ny_rent.describe(include='O')"
   ]
  },
  {
   "cell_type": "markdown",
   "metadata": {},
   "source": [
    "# Perguntas:\n",
    "* Supondo que uma pessoa esteja pensando em investir em um apartamento para alugar na plataforma, onde seria mais indicada a compra?\n",
    "* O número mínimo de noites e a disponibilidade ao longo do ano interferem no preço?\n",
    "* Existe algum padrão no texto do nome do local para lugares de mais alto valor?\n"
   ]
  },
  {
   "cell_type": "markdown",
   "metadata": {},
   "source": [
    "* Calcular preço máximo e mínimo  - ok\n",
    "* Ver os bairros que estão acima - ok \n",
    "* Pesquisar a média de preço naqueles bairros e comparar com os valores, dentro e fora do dataset"
   ]
  },
  {
   "cell_type": "code",
   "execution_count": 9,
   "metadata": {},
   "outputs": [
    {
     "data": {
      "text/plain": [
       "bairro_group\n",
       "Manhattan        21661\n",
       "Brooklyn         20103\n",
       "Queens            5666\n",
       "Bronx             1091\n",
       "Staten Island      373\n",
       "Name: count, dtype: int64"
      ]
     },
     "execution_count": 9,
     "metadata": {},
     "output_type": "execute_result"
    }
   ],
   "source": [
    "#Properties by neigborhood\n",
    "ny_rent['bairro_group'].value_counts()"
   ]
  },
  {
   "cell_type": "markdown",
   "metadata": {},
   "source": [
    "#### Manhattan e Brooklyn contém pouco mais de 85% dos imóveis no nosso dataset. Manhattan é considerada a ilha mais densamente povoada e mais cara de Nova York, onde encontramos ícones da cidade como Rockefeller Center, 5th Avenue, Central Park, além de ter a Ilha da Liberdade, casa de um dos símbolos de NYC, a Estátua da Liberdade. Já o Brooklyn é o condado mais populoso, sendo um bairro mais cultural já foi palco de alguns filmes como Saturday Night Fever, além de museus e outras atrações."
   ]
  },
  {
   "cell_type": "markdown",
   "metadata": {},
   "source": [
    "## Outliers\n",
    "#### Vamos ver quais são os valores que estão fora do que é esperado para esse conjunto de dados."
   ]
  },
  {
   "cell_type": "code",
   "execution_count": 10,
   "metadata": {},
   "outputs": [
    {
     "data": {
      "image/png": "[encoded data removed]",
      "text/plain": [
       "<Figure size 1800x400 with 1 Axes>"
      ]
     },
     "metadata": {},
     "output_type": "display_data"
    }
   ],
   "source": [
    "#Create a figure to plot\n",
    "figure, ax = plt.subplots(figsize=(18,4))\n",
    "\n",
    "#Create a violinplot\n",
    "sns.violinplot(x=ny_rent['price'], ax=ax, )\n",
    "ax.set_xlim(0, 1500)\n",
    "plt.xlabel('Valor do Aluguel (em dólares)')\n",
    "plt.title('Distribuição da variável price')\n",
    "\n",
    "plt.show()\n"
   ]
  },
  {
   "cell_type": "markdown",
   "metadata": {},
   "source": [
    "#### No gráfico acima conseguimos ver que boa parte dos valores está em um intervalo esperado, e que há alguns valores que são bem maiores. Calcularemos qual seria o valor máximo para esse conjunto de dados e ver o que está além desse valor."
   ]
  },
  {
   "cell_type": "code",
   "execution_count": 11,
   "metadata": {},
   "outputs": [
    {
     "name": "stdout",
     "output_type": "stream",
     "text": [
      "Preço mínimo: US$ -90.0 \n",
      "Preço máximo: US$ 334.0.\n"
     ]
    }
   ],
   "source": [
    "#Define quantiles 1 and 3 and calculate IQR\n",
    "q1_price = ny_rent['price'].quantile(.25)\n",
    "q3_price = ny_rent['price'].quantile(.75)\n",
    "IQR = q3_price - q1_price\n",
    "\n",
    "#Set minimum and maximum price\n",
    "min_price = q1_price - 1.5 * IQR\n",
    "max_price = q3_price + 1.5 * IQR\n",
    "print(f\"Preço mínimo: US$ {min_price} \\nPreço máximo: US$ {max_price}.\")"
   ]
  },
  {
   "cell_type": "markdown",
   "metadata": {},
   "source": [
    "#### Usando a técnica de quartis e interquartil, conseguimos definir um valor mínimo de US$ −90,00 e um valor máximo de US$ 334,00 para nosso conjunto de dados, logicamente não consideramos o valor mínimo por ser negativo, apesar de termos 11 entradas com aluguel de US$ 0,00, acredito que seja um erro do host na hora de publicar o anúncio, portanto usaremos o valor mínimo de US$ 11,00. Por outro lado, tudo o que estiver acima de US$ 334,00 pode ser considerado como outlier."
   ]
  },
  {
   "cell_type": "code",
   "execution_count": 12,
   "metadata": {},
   "outputs": [
    {
     "name": "stdout",
     "output_type": "stream",
     "text": [
      "Temos 2972 entradas que estão acima de 334 dólares. Pouco mais de 6% das entradas do nosso conjunto de dados.\n"
     ]
    }
   ],
   "source": [
    "print(f'Temos {ny_rent.query(\"price > 334.0\").shape[0]} entradas que estão acima de 334 dólares. \\\n",
    "Pouco mais de 6% das entradas do nosso conjunto de dados.')"
   ]
  },
  {
   "cell_type": "markdown",
   "metadata": {},
   "source": [
    "#### Essa quantidade de alugueis que estão acima de 334 dólares explica a diferença entre a média e a mediana da variável price. A média é 30% maior que a mediana."
   ]
  },
  {
   "cell_type": "code",
   "execution_count": 13,
   "metadata": {},
   "outputs": [
    {
     "data": {
      "text/plain": [
       "bairro_group\n",
       "Manhattan        2155\n",
       "Brooklyn          689\n",
       "Queens             99\n",
       "Bronx              21\n",
       "Staten Island       8\n",
       "Name: count, dtype: int64"
      ]
     },
     "execution_count": 13,
     "metadata": {},
     "output_type": "execute_result"
    }
   ],
   "source": [
    "#Outliers per neighborhood\n",
    "ny_rent.query('price > 334.0').groupby('bairro_group')['bairro_group'].value_counts().sort_values(ascending=False)"
   ]
  },
  {
   "cell_type": "markdown",
   "metadata": {},
   "source": [
    "#### Como esperado, a maioria dos valores acima de US$ 334,00 está na ilha de Manhattan. A que mais aparece é Midtown, onde estão localizados os pontos mais famosos de Nova York. Porém, mesmo nessa área é possível encontrar aluguéis com valor abaixo de US$ 334,00 e que estão bem localizados. Em seguida, sem novidades também temos uma grande quantidade de imóveis acima do esperado no Brooklyn. Sendo as duas regiões que mais tem entradas no nosso conjunto de dados, faz sentido que tenham mais outliers também."
   ]
  },
  {
   "cell_type": "code",
   "execution_count": 14,
   "metadata": {},
   "outputs": [
    {
     "data": {
      "text/plain": [
       "bairro_group\n",
       "Bronx             65.0\n",
       "Queens            74.0\n",
       "Staten Island     75.0\n",
       "Brooklyn          90.0\n",
       "Manhattan        135.0\n",
       "Name: price, dtype: float64"
      ]
     },
     "execution_count": 14,
     "metadata": {},
     "output_type": "execute_result"
    }
   ],
   "source": [
    "#Average price per neighborhood, properties above US$ 334\n",
    "ny_rent.query('price < 334.0').groupby('bairro_group')['price'].median().sort_values()"
   ]
  },
  {
   "cell_type": "markdown",
   "metadata": {},
   "source": [
    "#### Considerando a mediana, Manhattan é o bairro com o maior valor por imóvel. Mas devemos considerar outras variáveis para determinar se realmente é a melhor local para investir em imóvel para locação."
   ]
  },
  {
   "cell_type": "markdown",
   "metadata": {},
   "source": [
    "#### Vamos dar uma olhada na coluna ultima_review, ver quantos porcento a última review foi antes de 2019 e qual a porcentagem que obteve um review nos últimos 6 meses no dataset."
   ]
  },
  {
   "cell_type": "code",
   "execution_count": 82,
   "metadata": {},
   "outputs": [
    {
     "data": {
      "text/html": [
       "<div>\n",
       "<style scoped>\n",
       "    .dataframe tbody tr th:only-of-type {\n",
       "        vertical-align: middle;\n",
       "    }\n",
       "\n",
       "    .dataframe tbody tr th {\n",
       "        vertical-align: top;\n",
       "    }\n",
       "\n",
       "    .dataframe thead th {\n",
       "        text-align: right;\n",
       "    }\n",
       "</style>\n",
       "<table border=\"1\" class=\"dataframe\">\n",
       "  <thead>\n",
       "    <tr style=\"text-align: right;\">\n",
       "      <th></th>\n",
       "      <th>bairro_group</th>\n",
       "      <th>over_6_months</th>\n",
       "      <th>last_6_months</th>\n",
       "      <th>total_original</th>\n",
       "      <th>total_missing(%)</th>\n",
       "      <th>mean_over</th>\n",
       "      <th>mean_last</th>\n",
       "    </tr>\n",
       "  </thead>\n",
       "  <tbody>\n",
       "    <tr>\n",
       "      <th>0</th>\n",
       "      <td>Manhattan</td>\n",
       "      <td>1824</td>\n",
       "      <td>8989.0</td>\n",
       "      <td>21661.0</td>\n",
       "      <td>23.22</td>\n",
       "      <td>8.42</td>\n",
       "      <td>41.50</td>\n",
       "    </tr>\n",
       "    <tr>\n",
       "      <th>1</th>\n",
       "      <td>Brooklyn</td>\n",
       "      <td>1635</td>\n",
       "      <td>9028.0</td>\n",
       "      <td>20103.0</td>\n",
       "      <td>18.19</td>\n",
       "      <td>8.13</td>\n",
       "      <td>44.91</td>\n",
       "    </tr>\n",
       "    <tr>\n",
       "      <th>2</th>\n",
       "      <td>Queens</td>\n",
       "      <td>454</td>\n",
       "      <td>3181.0</td>\n",
       "      <td>5666.0</td>\n",
       "      <td>19.27</td>\n",
       "      <td>8.01</td>\n",
       "      <td>56.14</td>\n",
       "    </tr>\n",
       "    <tr>\n",
       "      <th>3</th>\n",
       "      <td>Bronx</td>\n",
       "      <td>87</td>\n",
       "      <td>669.0</td>\n",
       "      <td>1091.0</td>\n",
       "      <td>19.71</td>\n",
       "      <td>7.97</td>\n",
       "      <td>61.32</td>\n",
       "    </tr>\n",
       "    <tr>\n",
       "      <th>4</th>\n",
       "      <td>Staten Island</td>\n",
       "      <td>33</td>\n",
       "      <td>254.0</td>\n",
       "      <td>373.0</td>\n",
       "      <td>15.82</td>\n",
       "      <td>8.85</td>\n",
       "      <td>68.10</td>\n",
       "    </tr>\n",
       "  </tbody>\n",
       "</table>\n",
       "</div>"
      ],
      "text/plain": [
       "    bairro_group  over_6_months  last_6_months  total_original  \\\n",
       "0      Manhattan           1824         8989.0         21661.0   \n",
       "1       Brooklyn           1635         9028.0         20103.0   \n",
       "2         Queens            454         3181.0          5666.0   \n",
       "3          Bronx             87          669.0          1091.0   \n",
       "4  Staten Island             33          254.0           373.0   \n",
       "\n",
       "   total_missing(%)  mean_over  mean_last  \n",
       "0             23.22       8.42      41.50  \n",
       "1             18.19       8.13      44.91  \n",
       "2             19.27       8.01      56.14  \n",
       "3             19.71       7.97      61.32  \n",
       "4             15.82       8.85      68.10  "
      ]
     },
     "execution_count": 82,
     "metadata": {},
     "output_type": "execute_result"
    }
   ],
   "source": [
    "#Average ultima_review over 6 months ago and the last 6 months\n",
    "six_months = ny_rent.query('ultima_review < \"2019-01-01\" and disponibilidade_365 != 0')['bairro_group'].value_counts().to_frame()\\\n",
    "   .reset_index()\n",
    "six_months.rename(columns={'bairro_group': 'bairro_group', 'count': 'over_6_months'}, inplace=True)\n",
    "neighborhoods = ['Manhattan', 'Brooklyn', 'Queens', 'Bronx', 'Staten Island']\n",
    "for n in neighborhoods:\n",
    "   six_months.loc[six_months['bairro_group'] == n, 'last_6_months'] = ny_rent[(ny_rent['ultima_review'] >= '2019-01-01') \\\n",
    "                                 & (ny_rent['bairro_group'] == n) & (ny_rent['disponibilidade_365'] != 0)].shape[0]\n",
    "   six_months.loc[six_months['bairro_group'] == n, 'total_original'] = ny_rent[ny_rent['bairro_group'] == n].shape[0]\n",
    "   six_months.loc[six_months['bairro_group'] == n, 'total_missing(%)'] = round((ny_rent[ny_rent['bairro_group'] == n]\\\n",
    "                     ['ultima_review'].isnull().sum() / ny_rent[ny_rent['bairro_group'] == n].shape[0] * 100), 2)\n",
    "\n",
    "six_months ['mean_over'] = round((six_months['over_6_months'] / six_months['total_original'] * 100), 2)\n",
    "six_months ['mean_last'] = round((six_months['last_6_months'] / six_months['total_original'] * 100), 2)\n",
    "six_months"
   ]
  },
  {
   "cell_type": "markdown",
   "metadata": {},
   "source": [
    "#### !"
   ]
  },
  {
   "cell_type": "code",
   "execution_count": 83,
   "metadata": {},
   "outputs": [
    {
     "data": {
      "image/png": "[encoded data removed]",
      "text/plain": [
       "<Figure size 1400x400 with 2 Axes>"
      ]
     },
     "metadata": {},
     "output_type": "display_data"
    }
   ],
   "source": [
    "#Create a figure to plot\n",
    "fig, axs =plt.subplots(ncols=2, figsize=(14,4))\n",
    "\n",
    "#Plot 2 histograms\n",
    "sns.barplot(x=six_months['bairro_group'], y=six_months['mean_over'], ax=axs[0], palette='Blues_r')\n",
    "sns.barplot(x=six_months['bairro_group'], y=six_months['mean_last'], ax=axs[1], palette='Blues')\n",
    "axs[0].set_xlabel('Bairros')\n",
    "axs[0].set_ylabel('Média de Reviews')\n",
    "axs[0].set_title('Média de Últimos Reviews Anteriores a 2019')\n",
    "\n",
    "axs[1].set_xlabel('Bairros')\n",
    "axs[1].set_ylabel('Média de Reviews')\n",
    "axs[1].set_title('Média de Últimos Reviews Feitos nos Últimos 6 Meses')\n",
    "\n",
    "plt.tight_layout();"
   ]
  },
  {
   "cell_type": "markdown",
   "metadata": {},
   "source": [
    "#### No gráfico acima, o primeiro gráfico mostra que a média de últimos reviews que foram feitos antes de 2019 é praticamente igual em todos os bairros, porém quando olhamos para o segundo gráfico, que traz a média de últimos reviews dos últimos 6 meses, Staten Island é tem uma vantagem considerável sobre Manhattan e Brooklyn. Essa média foi calculada ignorando os imóveis que tem como disponibilidade de dias igual a 0, se não estão disponíveis para alugar, não tem como alguém fazer review por aluguel do apartamento.\n",
    "#### Levando isso em consideração, já podemos pensar se realmente Manhattan é o local mais apropriado para investir em um imóvel.\n",
    "\n",
    "#### Abaixo temos alguns aquivos json que armazenam a média do valor de compra de imóveis por bairro, esses valores foram tirados do site [Zillow]('https://www.zillow.com/home-values/102001/united-states/). Usaremos esses valores para calcular quais os bairros valem o investir em um imóvel."
   ]
  },
  {
   "cell_type": "code",
   "execution_count": 223,
   "metadata": {},
   "outputs": [],
   "source": [
    "#Read json files\n",
    "def read_json(json_file):\n",
    "    with open(json_file, 'r') as file:\n",
    "        j_file = json.load(file)\n",
    "    \n",
    "    return j_file"
   ]
  },
  {
   "cell_type": "code",
   "execution_count": 231,
   "metadata": {},
   "outputs": [],
   "source": [
    "#Json files containing the mean price per neighborhood\n",
    "manhattan_mean_price = read_json('Json Files/manhattan_mean_price.json')\n",
    "brooklyn_mean_price = read_json('Json Files/brooklyn_mean_price.json')\n",
    "bronx_mean_price = read_json('Json Files/bronx_mean_price.json')\n",
    "queens_mean_price = read_json('Json Files/queens_mean_price.json')\n",
    "st_island_mean_price = read_json('Json Files/staten_island_mean_price.json')"
   ]
  },
  {
   "cell_type": "markdown",
   "metadata": {},
   "source": [
    "#### Criei uma varíável para cada um dos grandes bairros de Nova York, Manhattan, Brooklyn, Bronx, Queens e State Island que estão armazenadas na variável bairro_group.\n",
    "#### Para cada nova variável temos:\n",
    " * bairro\n",
    " * mediana de preço para aquele bairro no conjuto de dados\n",
    " * mediana de preço de compra de imóveis obtidas dos arquivos json, \n",
    " * qual o valor esperado por diária para poder considerarmos o imóvel rentável\n",
    " * lucro, calculado subtraindo o valor esperado do preço\n",
    " #### Uma das regras levada em consideração para calcular se devemos ou não investir em um imóvel seria obter um aluguel mensal de 1% do valor pago pelo imóvel, contudo, nosso intuito aqui é alugar considerando a diária, portanto esse valor foi dividido por 30 e assim temos uma média do valor que deveria ser cobrado por dia para que o imóvel se torne um investimento atrativo."
   ]
  },
  {
   "cell_type": "code",
   "execution_count": 371,
   "metadata": {},
   "outputs": [],
   "source": [
    "#Create a list of \n",
    "manhattan = round(ny_rent.query('bairro_group == \"Manhattan\" and disponibilidade_365 != 0 and room_type == \"Entire home/apt\"')\\\n",
    "                  .groupby('bairro')['price'].median(), 2).sort_values().to_frame().reset_index()\n",
    "manhattan['média_preço_compra(US$)'] = manhattan['bairro'].map(manhattan_mean_price)\n",
    "manhattan['1%'] = round(manhattan['média_preço_compra(US$)'] * 0.01 / 30, 2)\n",
    "manhattan['lucro'] = manhattan['price'] - manhattan['1%']\n",
    "\n",
    "brooklyn = round(ny_rent.query('bairro_group == \"Brooklyn\" and disponibilidade_365 != 0 and room_type == \"Entire home/apt\"')\\\n",
    "                 .groupby('bairro')['price'].median(), 2).sort_values().to_frame().reset_index()\n",
    "brooklyn['média_preço_compra(US$)'] = brooklyn['bairro'].map(brooklyn_mean_price)\n",
    "brooklyn['1%'] = round(brooklyn['média_preço_compra(US$)'] * 0.01 / 30, 2)\n",
    "brooklyn['lucro'] = brooklyn['price'] - brooklyn['1%']\n",
    "\n",
    "bronx = round(ny_rent.query('bairro_group == \"Bronx\" and disponibilidade_365 != 0 and room_type == \"Entire home/apt\"')\\\n",
    "              .groupby('bairro')['price'].median(), 2).sort_values().to_frame().reset_index()\n",
    "bronx['média_preço_compra(US$)'] = bronx['bairro'].map(bronx_mean_price)\n",
    "bronx['1%'] = round(bronx['média_preço_compra(US$)'] * 0.01 / 30, 2)\n",
    "bronx['lucro'] = bronx['price'] - bronx['1%']\n",
    "\n",
    "queens = round(ny_rent.query('bairro_group == \"Queens\" and disponibilidade_365 != 0 and room_type == \"Entire home/apt\"')\\\n",
    "               .groupby('bairro')['price'].median(), 2).sort_values().to_frame().reset_index()\n",
    "queens['média_preço_compra(US$)'] = queens['bairro'].map(queens_mean_price)\n",
    "queens['1%'] = round(queens['média_preço_compra(US$)'] * 0.01 / 30, 2)\n",
    "queens['lucro'] = queens['price'] - queens['1%']\n",
    "\n",
    "st_island = round(ny_rent.query('bairro_group == \"Staten Island\" and disponibilidade_365 != 0 and room_type == \"Entire home/apt\"')\\\n",
    "                  .groupby('bairro')['price'].median(), 2).sort_values().to_frame().reset_index()\n",
    "st_island['média_preço_compra(US$)'] = st_island['bairro'].map(st_island_mean_price)\n",
    "st_island['1%'] = round(st_island['média_preço_compra(US$)'] * 0.01 / 30, 2)\n",
    "st_island['lucro'] = st_island['price'] - st_island['1%']"
   ]
  },
  {
   "cell_type": "markdown",
   "metadata": {},
   "source": [
    "#### Vamos verificar quais bairros em cada grande bairro tem o valor da coluna price maior do que o valor que calculamos de 1%."
   ]
  },
  {
   "cell_type": "code",
   "execution_count": 372,
   "metadata": {},
   "outputs": [
    {
     "name": "stdout",
     "output_type": "stream",
     "text": [
      "Empty DataFrame\n",
      "Columns: [bairro, price, média_preço_compra(US$), 1%, lucro]\n",
      "Index: [] \n",
      "\n",
      "          bairro  price  média_preço_compra(US$)      1%  lucro\n",
      "45  Vinegar Hill  200.0                   451434  150.48  49.52 \n",
      "\n",
      "               bairro  price  média_preço_compra(US$)      1%  lucro\n",
      "3          Highbridge   76.0                   219741   73.25   2.75\n",
      "9         Parkchester   88.0                   205543   68.51  19.49\n",
      "17        Kingsbridge   99.0                   291734   97.24   1.76\n",
      "25         Mount Hope  105.0                   250944   83.65  21.35\n",
      "31  Concourse Village  115.0                   304945  101.65  13.35\n",
      "34          Riverdale  124.5                   362119  120.71   3.79\n",
      "37            Norwood  125.0                   366919  122.31   2.69\n",
      "41         West Farms  165.0                   439582  146.53  18.47\n",
      "42        Eastchester  202.5                   545861  181.95  20.55\n",
      "43            Belmont  247.0                   470459  156.82  90.18 \n",
      "\n",
      "           bairro  price  média_preço_compra(US$)      1%  lucro\n",
      "31    Kew Gardens  125.0                   370321  123.44   1.56\n",
      "42        Bayside  187.5                   472448  157.48  30.02\n",
      "46   Far Rockaway  250.0                   626577  208.86  41.14\n",
      "48  Jamaica Hills  275.0                   807136  269.05   5.95 \n",
      "\n",
      "            bairro  price  média_preço_compra(US$)      1%   lucro\n",
      "33    New Brighton  249.0                   581215  193.74   55.26\n",
      "34     Willowbrook  249.0                   638084  212.69   36.31\n",
      "35     South Beach  275.0                   652155  217.39   57.61\n",
      "36    Prince's Bay  667.5                   806807  268.94  398.56\n",
      "37  Fort Wadsworth  800.0                   654080  218.03  581.97 \n",
      "\n"
     ]
    }
   ],
   "source": [
    "#Where a rental property is profitable\n",
    "print(manhattan[manhattan['price'] > manhattan['1%']], '\\n')\n",
    "print(brooklyn[brooklyn['price'] > brooklyn['1%']], '\\n')\n",
    "print(bronx[bronx['price'] > bronx['1%']], '\\n')\n",
    "print(queens[queens['price'] > queens['1%']], '\\n')\n",
    "print(st_island[st_island['price'] > st_island['1%']], '\\n')"
   ]
  },
  {
   "cell_type": "markdown",
   "metadata": {},
   "source": [
    "#### Levando o calculo acima, vemos que Manhattan, apesar de ter os valores mais altos, não é o local mais indicado para comprar um imóvel devido ao alto valor de compra dos mesmos, tanto que não tem nenhum bairro que tenha o valor na coluna price que seja maior que o valor calculado de 1%. \n",
    "#### Bronx é a área onde a maior quantidade de bairros com imóveis rentáveis."
   ]
  },
  {
   "cell_type": "code",
   "execution_count": 373,
   "metadata": {},
   "outputs": [],
   "source": [
    "#Concat all the neighborhoods and profits\n",
    "buroughs = [manhattan[manhattan['price'] > manhattan['1%']][['bairro', 'lucro']], \n",
    "            brooklyn[brooklyn['price'] > brooklyn['1%']][['bairro', 'lucro']], \n",
    "            bronx[bronx['price'] > bronx['1%']][['bairro', 'lucro']], queens[queens['price'] > queens['1%']][['bairro', 'lucro']], \n",
    "            st_island[st_island['price'] > st_island['1%']][['bairro', 'lucro']]]\n",
    "\n",
    "new_york = pd.concat(buroughs)"
   ]
  },
  {
   "cell_type": "code",
   "execution_count": 374,
   "metadata": {},
   "outputs": [
    {
     "data": {
      "text/html": [
       "<div>\n",
       "<style scoped>\n",
       "    .dataframe tbody tr th:only-of-type {\n",
       "        vertical-align: middle;\n",
       "    }\n",
       "\n",
       "    .dataframe tbody tr th {\n",
       "        vertical-align: top;\n",
       "    }\n",
       "\n",
       "    .dataframe thead th {\n",
       "        text-align: right;\n",
       "    }\n",
       "</style>\n",
       "<table border=\"1\" class=\"dataframe\">\n",
       "  <thead>\n",
       "    <tr style=\"text-align: right;\">\n",
       "      <th></th>\n",
       "      <th>bairro</th>\n",
       "      <th>lucro</th>\n",
       "    </tr>\n",
       "  </thead>\n",
       "  <tbody>\n",
       "    <tr>\n",
       "      <th>31</th>\n",
       "      <td>Kew Gardens</td>\n",
       "      <td>1.56</td>\n",
       "    </tr>\n",
       "    <tr>\n",
       "      <th>17</th>\n",
       "      <td>Kingsbridge</td>\n",
       "      <td>1.76</td>\n",
       "    </tr>\n",
       "    <tr>\n",
       "      <th>37</th>\n",
       "      <td>Norwood</td>\n",
       "      <td>2.69</td>\n",
       "    </tr>\n",
       "    <tr>\n",
       "      <th>3</th>\n",
       "      <td>Highbridge</td>\n",
       "      <td>2.75</td>\n",
       "    </tr>\n",
       "    <tr>\n",
       "      <th>34</th>\n",
       "      <td>Riverdale</td>\n",
       "      <td>3.79</td>\n",
       "    </tr>\n",
       "    <tr>\n",
       "      <th>48</th>\n",
       "      <td>Jamaica Hills</td>\n",
       "      <td>5.95</td>\n",
       "    </tr>\n",
       "    <tr>\n",
       "      <th>31</th>\n",
       "      <td>Concourse Village</td>\n",
       "      <td>13.35</td>\n",
       "    </tr>\n",
       "    <tr>\n",
       "      <th>41</th>\n",
       "      <td>West Farms</td>\n",
       "      <td>18.47</td>\n",
       "    </tr>\n",
       "    <tr>\n",
       "      <th>9</th>\n",
       "      <td>Parkchester</td>\n",
       "      <td>19.49</td>\n",
       "    </tr>\n",
       "    <tr>\n",
       "      <th>42</th>\n",
       "      <td>Eastchester</td>\n",
       "      <td>20.55</td>\n",
       "    </tr>\n",
       "    <tr>\n",
       "      <th>25</th>\n",
       "      <td>Mount Hope</td>\n",
       "      <td>21.35</td>\n",
       "    </tr>\n",
       "    <tr>\n",
       "      <th>42</th>\n",
       "      <td>Bayside</td>\n",
       "      <td>30.02</td>\n",
       "    </tr>\n",
       "    <tr>\n",
       "      <th>34</th>\n",
       "      <td>Willowbrook</td>\n",
       "      <td>36.31</td>\n",
       "    </tr>\n",
       "    <tr>\n",
       "      <th>46</th>\n",
       "      <td>Far Rockaway</td>\n",
       "      <td>41.14</td>\n",
       "    </tr>\n",
       "    <tr>\n",
       "      <th>45</th>\n",
       "      <td>Vinegar Hill</td>\n",
       "      <td>49.52</td>\n",
       "    </tr>\n",
       "    <tr>\n",
       "      <th>33</th>\n",
       "      <td>New Brighton</td>\n",
       "      <td>55.26</td>\n",
       "    </tr>\n",
       "    <tr>\n",
       "      <th>35</th>\n",
       "      <td>South Beach</td>\n",
       "      <td>57.61</td>\n",
       "    </tr>\n",
       "    <tr>\n",
       "      <th>43</th>\n",
       "      <td>Belmont</td>\n",
       "      <td>90.18</td>\n",
       "    </tr>\n",
       "    <tr>\n",
       "      <th>36</th>\n",
       "      <td>Prince's Bay</td>\n",
       "      <td>398.56</td>\n",
       "    </tr>\n",
       "    <tr>\n",
       "      <th>37</th>\n",
       "      <td>Fort Wadsworth</td>\n",
       "      <td>581.97</td>\n",
       "    </tr>\n",
       "  </tbody>\n",
       "</table>\n",
       "</div>"
      ],
      "text/plain": [
       "               bairro   lucro\n",
       "31        Kew Gardens    1.56\n",
       "17        Kingsbridge    1.76\n",
       "37            Norwood    2.69\n",
       "3          Highbridge    2.75\n",
       "34          Riverdale    3.79\n",
       "48      Jamaica Hills    5.95\n",
       "31  Concourse Village   13.35\n",
       "41         West Farms   18.47\n",
       "9         Parkchester   19.49\n",
       "42        Eastchester   20.55\n",
       "25         Mount Hope   21.35\n",
       "42            Bayside   30.02\n",
       "34        Willowbrook   36.31\n",
       "46       Far Rockaway   41.14\n",
       "45       Vinegar Hill   49.52\n",
       "33       New Brighton   55.26\n",
       "35        South Beach   57.61\n",
       "43            Belmont   90.18\n",
       "36       Prince's Bay  398.56\n",
       "37     Fort Wadsworth  581.97"
      ]
     },
     "execution_count": 374,
     "metadata": {},
     "output_type": "execute_result"
    }
   ],
   "source": [
    "#From less to more profitable\n",
    "print(\"Ranking de bairro de acordo com o lucro oferecido.\")\n",
    "new_york.sort_values(by='lucro')"
   ]
  },
  {
   "cell_type": "markdown",
   "metadata": {},
   "source": [
    "#### Acima temos um ranking do lucro diário de cada bairro."
   ]
  },
  {
   "cell_type": "markdown",
   "metadata": {},
   "source": [
    "#### Comparando os bairros acima com o dataset, segue ranking de melhores oportunidades. Aqui consideramos o aluguel do imóvel como todo ou um imóvel com pelo menos 3 dormitórios para alugar por quarto.\n",
    "<table>\n",
    "* Parkchester (31,31) - Bronx - US$ 19.49\n",
    "* Vinegar Hill (21,21) - Brooklyn - US$ 49.52\n",
    "* Mount Hope (16,16) - Bronx - US$ 21.35\n",
    "* Concourse Village(24, 24) - Bronx - US$ 13.35\n",
    "* Riverdale (8,8) - Bronx - US$ 3.79\n",
    "* Kingsbridge (58,58) - Bronx - US$ 1.76\n",
    "</table>\n",
    "<table>\n",
    "* Belmont (9, 17) - Bronx - US$ 90.18\n",
    "* Jamaica Hills (4, 6) - Queens - US$ 5.95\n",
    "* Highbridge (22, 24) - Bronx - US$ 2.75\n",
    "* Norwood (19,21) - Bronx - US$ 2.69\n",
    "* Eastchester (11, 13) - Bronx - US$ 20.55\n",
    "* West Farms (2,2) - Bronx - US$ 18.47\n",
    "* Kew Gardens(50, 58) - Queens - US$ 1.56\n",
    "</table>\n",
    "\n"
   ]
  },
  {
   "cell_type": "markdown",
   "metadata": {},
   "source": [
    "https://smartasset.com/taxes/new-york-property-tax-calculator#:~:text=When%20taking%20those%20exemptions%20into,%2C%20the%20rate%20is%200.98%25."
   ]
  },
  {
   "cell_type": "markdown",
   "metadata": {},
   "source": []
  }
 ],
 "metadata": {
  "kernelspec": {
   "display_name": "Python 3",
   "language": "python",
   "name": "python3"
  },
  "language_info": {
   "codemirror_mode": {
    "name": "ipython",
    "version": 3
   },
   "file_extension": ".py",
   "mimetype": "text/x-python",
   "name": "python",
   "nbconvert_exporter": "python",
   "pygments_lexer": "ipython3",
   "version": "3.9.2"
  }
 },
 "nbformat": 4,
 "nbformat_minor": 2
}
